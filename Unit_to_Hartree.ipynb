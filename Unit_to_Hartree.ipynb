{
 "cells": [
  {
   "cell_type": "code",
   "execution_count": 1,
   "metadata": {},
   "outputs": [],
   "source": [
    "import numpy as np\n",
    "#Energy, temperature units in Hartrees:\n",
    "eV = 1/27.21138505 #!< eV in Hartrees\n",
    "Ryd = 0.5 #!< Rydberg in Hartrees\n",
    "Joule = 1/4.35974434e-18 #!< Joule in Hartrees\n",
    "KJoule = 1000*Joule #!< KJoule in Hartrees\n",
    "Kcal = KJoule * 4.184 #!< Kcal in Hartrees\n",
    "Kelvin = 1.3806488e-23*Joule #!< Kelvin in Hartrees\n",
    "invcm = 1./219474.6313705 #!< Inverse cm in Hartrees\n",
    "\n",
    "#Length units in bohrs:\n",
    "Angstrom = 1/0.5291772 #!< Angstrom in bohrs\n",
    "meter = 1e10*Angstrom #!< meter in bohrs\n",
    "liter = 1e-3*pow(meter,3)  #!< liter in cubic bohrs\n",
    "\n",
    "#Mass units in electron masses:\n",
    "amu = 1822.88839 #!< atomic mass unit in electron masses\n",
    "kg = 1./9.10938291e-31 #!< kilogram in electron masses\n",
    "\n",
    "#Dimensionless:\n",
    "mol = 6.0221367e23 #!< mole in number (i.e. Avogadro number)\n",
    "\n",
    "#Commonly used derived units:\n",
    "Newton = Joule/meter  #!< Newton in Hartree/bohr\n",
    "Pascal = Newton/(meter*meter) #!< Pascal in Hartree/bohr^3\n",
    "KPascal = 1000*Pascal  #!< KPa in Hartree/bohr^3\n",
    "Bar = 100*KPascal   #!< bar in Hartree/bohr^3\n",
    "mmHg = 133.322387415*Pascal  #!< mm Hg in Hartree/bohr^3\n",
    "\n",
    "#Time\n",
    "sec = np.sqrt((kg*meter)/Newton) #!< second in inverse Hartrees\n",
    "invSec = 1./sec #!< inverse second in Hartrees\n",
    "fs = sec*1.0e-15 #!< femtosecond in inverse Hartrees\n",
    "\n",
    "#Electrical:\n",
    "Coul = Joule/eV #!< Coulomb in electrons\n",
    "Volt = Joule/Coul #!< Volt in Hartrees\n",
    "Ampere = Coul/sec #!< Ampere in electrons/inverse Hartree\n",
    "Ohm = Volt/Ampere #!< Ohm in inverse conductance quanta\n",
    "\n",
    "#Magnetic:\n",
    "Tesla = Volt*sec/(meter*meter) #!< Tesla in atomic units\n",
    "bohrMagneton = 0.5\n",
    "gElectron = 2.0023193043617 #!< electron gyromagnetic ratio\n",
    "\n",
    "#! @}\n",
    "#endif #JDFTX_CORE_UNITS_H\n"
   ]
  },
  {
   "cell_type": "code",
   "execution_count": 2,
   "metadata": {},
   "outputs": [],
   "source": [
    "def pumpA0(pumpI,pumpOmega):# get Electric Field Amplitude from light intensity. All quantities in Hartree units\n",
    "    # All in Hartree units\n",
    "    c = 137.035999084 #speed of light in atomic units = 1/(fine structure constant)\n",
    "    pumpA0=np.sqrt(8 * np.pi * pumpI/(c * pow(pumpOmega, 2)))\n",
    "    return pumpA0\n",
    "def pumpI(pumpA0,pumpOmega):# get light intensity from Electric Field Amplitude. All quantities in Hartree units\n",
    "    # All in Hartree units\n",
    "    c = 137.035999084 #speed of light in atomic units = 1/(fine structure constant)\n",
    "    pumpI=pow(pumpA0,2)/(8 * np.pi)*(c * pow(pumpOmega, 2))  \n",
    "    return pumpI\n",
    "\n",
    "# Note: Here, the I is not the real intensity. it is \"pump fluence\" in \"Ab initio ultrafast spin dynamics in solids, prb\"\n",
    "# These two functions are just used to convert two parameters from Shankar's and Junqing's codes."
   ]
  },
  {
   "cell_type": "code",
   "execution_count": 17,
   "metadata": {},
   "outputs": [
    {
     "data": {
      "text/plain": [
       "2.1653352409027e-11"
      ]
     },
     "execution_count": 17,
     "metadata": {},
     "output_type": "execute_result"
    }
   ],
   "source": [
    "pumpA0(0.0005*Joule/(meter**2*sec),1.5*eV)\n"
   ]
  },
  {
   "cell_type": "code",
   "execution_count": 30,
   "metadata": {},
   "outputs": [
    {
     "data": {
      "text/plain": [
       "0.0004999999999999999"
      ]
     },
     "execution_count": 30,
     "metadata": {},
     "output_type": "execute_result"
    }
   ],
   "source": [
    "pumpI(2.1653352409027E-11,1.5*eV)/(Joule/(meter**2*sec))"
   ]
  },
  {
   "cell_type": "code",
   "execution_count": 39,
   "metadata": {},
   "outputs": [
    {
     "data": {
      "text/plain": [
       "87736135712229.27"
      ]
     },
     "execution_count": 39,
     "metadata": {},
     "output_type": "execute_result"
    }
   ],
   "source": [
    "def Intensity_from_A0(A0):\n",
    "    c = 137.035999084 #speed of light in atomic units = 1/(fine structure constant)\n",
    "    I=pow(A0,2)/(8 * np.pi)*c  \n",
    "    return I\n",
    "\n",
    "Intensity_from_A0(0.0005)/(Ampere*Volt/meter**2)\n",
    "#Note this is the real intensity of light, after test it can give correct results from A0. All quantities are in atomic units."
   ]
  },
  {
   "cell_type": "code",
   "execution_count": 38,
   "metadata": {},
   "outputs": [
    {
     "data": {
      "text/plain": [
       "87736133917894.55"
      ]
     },
     "execution_count": 38,
     "metadata": {},
     "output_type": "execute_result"
    }
   ],
   "source": [
    "E=5.00E-04/(Volt/meter)         #kg⋅s−3⋅A−1 (Volt/m)\n",
    "speed_of_light=299792458#m.s-1\n",
    "permittivity=8.8541878128e-12#kg−1⋅m−3⋅s4⋅A2.\n",
    "E*E*speed_of_light*permittivity/2\n",
    "# Some test for Intensity_from_A0 functions."
   ]
  },
  {
   "cell_type": "code",
   "execution_count": null,
   "metadata": {},
   "outputs": [],
   "source": []
  }
 ],
 "metadata": {
  "kernelspec": {
   "display_name": "base",
   "language": "python",
   "name": "python3"
  },
  "language_info": {
   "codemirror_mode": {
    "name": "ipython",
    "version": 3
   },
   "file_extension": ".py",
   "mimetype": "text/x-python",
   "name": "python",
   "nbconvert_exporter": "python",
   "pygments_lexer": "ipython3",
   "version": "3.9.15"
  }
 },
 "nbformat": 4,
 "nbformat_minor": 2
}
